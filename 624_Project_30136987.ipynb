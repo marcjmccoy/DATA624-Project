{
 "cells": [
  {
   "cell_type": "code",
   "execution_count": 189,
   "metadata": {},
   "outputs": [],
   "source": [
    "import pandas as pd\n",
    "import numpy as np\n",
    "import matplotlib.pyplot as plt\n",
    "import seaborn as sns\n",
    "from mpl_toolkits.mplot3d import Axes3D\n",
    "import plotly.express as px\n",
    "%matplotlib inline"
   ]
  },
  {
   "cell_type": "code",
   "execution_count": 190,
   "metadata": {},
   "outputs": [
    {
     "data": {
      "text/html": [
       "<div>\n",
       "<style scoped>\n",
       "    .dataframe tbody tr th:only-of-type {\n",
       "        vertical-align: middle;\n",
       "    }\n",
       "\n",
       "    .dataframe tbody tr th {\n",
       "        vertical-align: top;\n",
       "    }\n",
       "\n",
       "    .dataframe thead th {\n",
       "        text-align: right;\n",
       "    }\n",
       "</style>\n",
       "<table border=\"1\" class=\"dataframe\">\n",
       "  <thead>\n",
       "    <tr style=\"text-align: right;\">\n",
       "      <th></th>\n",
       "      <th>age</th>\n",
       "      <th>height</th>\n",
       "      <th>sex</th>\n",
       "      <th>smoke</th>\n",
       "      <th>fev</th>\n",
       "    </tr>\n",
       "  </thead>\n",
       "  <tbody>\n",
       "    <tr>\n",
       "      <th>0</th>\n",
       "      <td>9</td>\n",
       "      <td>57.0</td>\n",
       "      <td>0</td>\n",
       "      <td>0</td>\n",
       "      <td>1.708</td>\n",
       "    </tr>\n",
       "    <tr>\n",
       "      <th>1</th>\n",
       "      <td>8</td>\n",
       "      <td>67.5</td>\n",
       "      <td>0</td>\n",
       "      <td>0</td>\n",
       "      <td>1.724</td>\n",
       "    </tr>\n",
       "    <tr>\n",
       "      <th>2</th>\n",
       "      <td>7</td>\n",
       "      <td>54.5</td>\n",
       "      <td>0</td>\n",
       "      <td>0</td>\n",
       "      <td>1.720</td>\n",
       "    </tr>\n",
       "    <tr>\n",
       "      <th>3</th>\n",
       "      <td>9</td>\n",
       "      <td>53.0</td>\n",
       "      <td>1</td>\n",
       "      <td>0</td>\n",
       "      <td>1.558</td>\n",
       "    </tr>\n",
       "    <tr>\n",
       "      <th>4</th>\n",
       "      <td>9</td>\n",
       "      <td>57.0</td>\n",
       "      <td>1</td>\n",
       "      <td>0</td>\n",
       "      <td>1.895</td>\n",
       "    </tr>\n",
       "    <tr>\n",
       "      <th>...</th>\n",
       "      <td>...</td>\n",
       "      <td>...</td>\n",
       "      <td>...</td>\n",
       "      <td>...</td>\n",
       "      <td>...</td>\n",
       "    </tr>\n",
       "    <tr>\n",
       "      <th>649</th>\n",
       "      <td>16</td>\n",
       "      <td>67.0</td>\n",
       "      <td>1</td>\n",
       "      <td>1</td>\n",
       "      <td>4.270</td>\n",
       "    </tr>\n",
       "    <tr>\n",
       "      <th>650</th>\n",
       "      <td>15</td>\n",
       "      <td>68.0</td>\n",
       "      <td>1</td>\n",
       "      <td>1</td>\n",
       "      <td>3.727</td>\n",
       "    </tr>\n",
       "    <tr>\n",
       "      <th>651</th>\n",
       "      <td>18</td>\n",
       "      <td>60.0</td>\n",
       "      <td>0</td>\n",
       "      <td>0</td>\n",
       "      <td>2.853</td>\n",
       "    </tr>\n",
       "    <tr>\n",
       "      <th>652</th>\n",
       "      <td>16</td>\n",
       "      <td>63.0</td>\n",
       "      <td>0</td>\n",
       "      <td>1</td>\n",
       "      <td>2.795</td>\n",
       "    </tr>\n",
       "    <tr>\n",
       "      <th>653</th>\n",
       "      <td>15</td>\n",
       "      <td>66.5</td>\n",
       "      <td>0</td>\n",
       "      <td>0</td>\n",
       "      <td>3.211</td>\n",
       "    </tr>\n",
       "  </tbody>\n",
       "</table>\n",
       "<p>654 rows × 5 columns</p>\n",
       "</div>"
      ],
      "text/plain": [
       "     age  height  sex  smoke    fev\n",
       "0      9    57.0    0      0  1.708\n",
       "1      8    67.5    0      0  1.724\n",
       "2      7    54.5    0      0  1.720\n",
       "3      9    53.0    1      0  1.558\n",
       "4      9    57.0    1      0  1.895\n",
       "..   ...     ...  ...    ...    ...\n",
       "649   16    67.0    1      1  4.270\n",
       "650   15    68.0    1      1  3.727\n",
       "651   18    60.0    0      0  2.853\n",
       "652   16    63.0    0      1  2.795\n",
       "653   15    66.5    0      0  3.211\n",
       "\n",
       "[654 rows x 5 columns]"
      ]
     },
     "execution_count": 190,
     "metadata": {},
     "output_type": "execute_result"
    }
   ],
   "source": [
    "#load provided csv file\n",
    "df = pd.read_csv(\"fev.csv\")\n",
    "df"
   ]
  },
  {
   "cell_type": "code",
   "execution_count": 191,
   "metadata": {},
   "outputs": [
    {
     "data": {
      "text/html": [
       "<div>\n",
       "<style scoped>\n",
       "    .dataframe tbody tr th:only-of-type {\n",
       "        vertical-align: middle;\n",
       "    }\n",
       "\n",
       "    .dataframe tbody tr th {\n",
       "        vertical-align: top;\n",
       "    }\n",
       "\n",
       "    .dataframe thead th {\n",
       "        text-align: right;\n",
       "    }\n",
       "</style>\n",
       "<table border=\"1\" class=\"dataframe\">\n",
       "  <thead>\n",
       "    <tr style=\"text-align: right;\">\n",
       "      <th></th>\n",
       "      <th>age</th>\n",
       "      <th>height</th>\n",
       "      <th>sex</th>\n",
       "      <th>smoke</th>\n",
       "      <th>fev</th>\n",
       "    </tr>\n",
       "  </thead>\n",
       "  <tbody>\n",
       "    <tr>\n",
       "      <th>count</th>\n",
       "      <td>654.000000</td>\n",
       "      <td>654.000000</td>\n",
       "      <td>654.000000</td>\n",
       "      <td>654.000000</td>\n",
       "      <td>654.000000</td>\n",
       "    </tr>\n",
       "    <tr>\n",
       "      <th>mean</th>\n",
       "      <td>9.931193</td>\n",
       "      <td>61.143578</td>\n",
       "      <td>0.513761</td>\n",
       "      <td>0.099388</td>\n",
       "      <td>2.636780</td>\n",
       "    </tr>\n",
       "    <tr>\n",
       "      <th>std</th>\n",
       "      <td>2.953935</td>\n",
       "      <td>5.703513</td>\n",
       "      <td>0.500193</td>\n",
       "      <td>0.299412</td>\n",
       "      <td>0.867059</td>\n",
       "    </tr>\n",
       "    <tr>\n",
       "      <th>min</th>\n",
       "      <td>3.000000</td>\n",
       "      <td>46.000000</td>\n",
       "      <td>0.000000</td>\n",
       "      <td>0.000000</td>\n",
       "      <td>0.791000</td>\n",
       "    </tr>\n",
       "    <tr>\n",
       "      <th>25%</th>\n",
       "      <td>8.000000</td>\n",
       "      <td>57.000000</td>\n",
       "      <td>0.000000</td>\n",
       "      <td>0.000000</td>\n",
       "      <td>1.981000</td>\n",
       "    </tr>\n",
       "    <tr>\n",
       "      <th>50%</th>\n",
       "      <td>10.000000</td>\n",
       "      <td>61.500000</td>\n",
       "      <td>1.000000</td>\n",
       "      <td>0.000000</td>\n",
       "      <td>2.547500</td>\n",
       "    </tr>\n",
       "    <tr>\n",
       "      <th>75%</th>\n",
       "      <td>12.000000</td>\n",
       "      <td>65.500000</td>\n",
       "      <td>1.000000</td>\n",
       "      <td>0.000000</td>\n",
       "      <td>3.118500</td>\n",
       "    </tr>\n",
       "    <tr>\n",
       "      <th>max</th>\n",
       "      <td>19.000000</td>\n",
       "      <td>74.000000</td>\n",
       "      <td>1.000000</td>\n",
       "      <td>1.000000</td>\n",
       "      <td>5.793000</td>\n",
       "    </tr>\n",
       "  </tbody>\n",
       "</table>\n",
       "</div>"
      ],
      "text/plain": [
       "              age      height         sex       smoke         fev\n",
       "count  654.000000  654.000000  654.000000  654.000000  654.000000\n",
       "mean     9.931193   61.143578    0.513761    0.099388    2.636780\n",
       "std      2.953935    5.703513    0.500193    0.299412    0.867059\n",
       "min      3.000000   46.000000    0.000000    0.000000    0.791000\n",
       "25%      8.000000   57.000000    0.000000    0.000000    1.981000\n",
       "50%     10.000000   61.500000    1.000000    0.000000    2.547500\n",
       "75%     12.000000   65.500000    1.000000    0.000000    3.118500\n",
       "max     19.000000   74.000000    1.000000    1.000000    5.793000"
      ]
     },
     "execution_count": 191,
     "metadata": {},
     "output_type": "execute_result"
    }
   ],
   "source": [
    "df.describe()"
   ]
  },
  {
   "cell_type": "code",
   "execution_count": 192,
   "metadata": {},
   "outputs": [],
   "source": [
    "#4 subgroups can be created with the two categorical variables\n",
    "df_F_nonsmoker = df[(df['sex'] == 0) & (df['smoke'] == 0 )]\n",
    "df_F_smoker = df[(df['sex'] == 0) & (df['smoke'] == 1 )]\n",
    "df_M_nonsmoker = df[(df['sex'] == 1) & (df['smoke'] == 0 )]\n",
    "df_M_smoker = df[(df['sex'] == 1) & (df['smoke'] == 1 )]"
   ]
  },
  {
   "cell_type": "code",
   "execution_count": 165,
   "metadata": {},
   "outputs": [
    {
     "data": {
      "text/html": [
       "<div>\n",
       "<style scoped>\n",
       "    .dataframe tbody tr th:only-of-type {\n",
       "        vertical-align: middle;\n",
       "    }\n",
       "\n",
       "    .dataframe tbody tr th {\n",
       "        vertical-align: top;\n",
       "    }\n",
       "\n",
       "    .dataframe thead th {\n",
       "        text-align: right;\n",
       "    }\n",
       "</style>\n",
       "<table border=\"1\" class=\"dataframe\">\n",
       "  <thead>\n",
       "    <tr style=\"text-align: right;\">\n",
       "      <th></th>\n",
       "      <th>age</th>\n",
       "      <th>height</th>\n",
       "      <th>sex</th>\n",
       "      <th>smoke</th>\n",
       "      <th>fev</th>\n",
       "    </tr>\n",
       "  </thead>\n",
       "  <tbody>\n",
       "    <tr>\n",
       "      <th>count</th>\n",
       "      <td>279.000000</td>\n",
       "      <td>279.000000</td>\n",
       "      <td>279.0</td>\n",
       "      <td>279.0</td>\n",
       "      <td>279.000000</td>\n",
       "    </tr>\n",
       "    <tr>\n",
       "      <th>mean</th>\n",
       "      <td>9.365591</td>\n",
       "      <td>59.605376</td>\n",
       "      <td>0.0</td>\n",
       "      <td>0.0</td>\n",
       "      <td>2.379211</td>\n",
       "    </tr>\n",
       "    <tr>\n",
       "      <th>std</th>\n",
       "      <td>2.693390</td>\n",
       "      <td>4.738660</td>\n",
       "      <td>0.0</td>\n",
       "      <td>0.0</td>\n",
       "      <td>0.639263</td>\n",
       "    </tr>\n",
       "    <tr>\n",
       "      <th>min</th>\n",
       "      <td>3.000000</td>\n",
       "      <td>46.000000</td>\n",
       "      <td>0.0</td>\n",
       "      <td>0.0</td>\n",
       "      <td>0.791000</td>\n",
       "    </tr>\n",
       "    <tr>\n",
       "      <th>25%</th>\n",
       "      <td>8.000000</td>\n",
       "      <td>57.000000</td>\n",
       "      <td>0.0</td>\n",
       "      <td>0.0</td>\n",
       "      <td>1.877500</td>\n",
       "    </tr>\n",
       "    <tr>\n",
       "      <th>50%</th>\n",
       "      <td>9.000000</td>\n",
       "      <td>60.500000</td>\n",
       "      <td>0.0</td>\n",
       "      <td>0.0</td>\n",
       "      <td>2.417000</td>\n",
       "    </tr>\n",
       "    <tr>\n",
       "      <th>75%</th>\n",
       "      <td>11.000000</td>\n",
       "      <td>63.000000</td>\n",
       "      <td>0.0</td>\n",
       "      <td>0.0</td>\n",
       "      <td>2.865000</td>\n",
       "    </tr>\n",
       "    <tr>\n",
       "      <th>max</th>\n",
       "      <td>18.000000</td>\n",
       "      <td>71.000000</td>\n",
       "      <td>0.0</td>\n",
       "      <td>0.0</td>\n",
       "      <td>3.816000</td>\n",
       "    </tr>\n",
       "  </tbody>\n",
       "</table>\n",
       "</div>"
      ],
      "text/plain": [
       "              age      height    sex  smoke         fev\n",
       "count  279.000000  279.000000  279.0  279.0  279.000000\n",
       "mean     9.365591   59.605376    0.0    0.0    2.379211\n",
       "std      2.693390    4.738660    0.0    0.0    0.639263\n",
       "min      3.000000   46.000000    0.0    0.0    0.791000\n",
       "25%      8.000000   57.000000    0.0    0.0    1.877500\n",
       "50%      9.000000   60.500000    0.0    0.0    2.417000\n",
       "75%     11.000000   63.000000    0.0    0.0    2.865000\n",
       "max     18.000000   71.000000    0.0    0.0    3.816000"
      ]
     },
     "execution_count": 165,
     "metadata": {},
     "output_type": "execute_result"
    }
   ],
   "source": [
    "df_F_nonsmoker.describe()"
   ]
  },
  {
   "cell_type": "code",
   "execution_count": 166,
   "metadata": {},
   "outputs": [
    {
     "name": "stderr",
     "output_type": "stream",
     "text": [
      "C:\\ProgramData\\Anaconda3\\lib\\site-packages\\seaborn\\distributions.py:2557: FutureWarning: `distplot` is a deprecated function and will be removed in a future version. Please adapt your code to use either `displot` (a figure-level function with similar flexibility) or `histplot` (an axes-level function for histograms).\n",
      "  warnings.warn(msg, FutureWarning)\n"
     ]
    },
    {
     "data": {
      "text/plain": [
       "<AxesSubplot:xlabel='age', ylabel='Density'>"
      ]
     },
     "execution_count": 166,
     "metadata": {},
     "output_type": "execute_result"
    },
    {
     "data": {
      "image/png": "[encoded data removed]",
      "text/plain": [
       "<Figure size 432x288 with 1 Axes>"
      ]
     },
     "metadata": {
      "needs_background": "light"
     },
     "output_type": "display_data"
    }
   ],
   "source": [
    "sns.distplot(df.age)"
   ]
  },
  {
   "cell_type": "code",
   "execution_count": 167,
   "metadata": {},
   "outputs": [
    {
     "name": "stderr",
     "output_type": "stream",
     "text": [
      "C:\\ProgramData\\Anaconda3\\lib\\site-packages\\seaborn\\distributions.py:2557: FutureWarning: `distplot` is a deprecated function and will be removed in a future version. Please adapt your code to use either `displot` (a figure-level function with similar flexibility) or `histplot` (an axes-level function for histograms).\n",
      "  warnings.warn(msg, FutureWarning)\n"
     ]
    },
    {
     "data": {
      "text/plain": [
       "<AxesSubplot:xlabel='height', ylabel='Density'>"
      ]
     },
     "execution_count": 167,
     "metadata": {},
     "output_type": "execute_result"
    },
    {
     "data": {
      "image/png": "[encoded data removed]",
      "text/plain": [
       "<Figure size 432x288 with 1 Axes>"
      ]
     },
     "metadata": {
      "needs_background": "light"
     },
     "output_type": "display_data"
    }
   ],
   "source": [
    "sns.distplot(df.height)"
   ]
  },
  {
   "cell_type": "code",
   "execution_count": 168,
   "metadata": {},
   "outputs": [
    {
     "name": "stderr",
     "output_type": "stream",
     "text": [
      "C:\\ProgramData\\Anaconda3\\lib\\site-packages\\seaborn\\distributions.py:2557: FutureWarning: `distplot` is a deprecated function and will be removed in a future version. Please adapt your code to use either `displot` (a figure-level function with similar flexibility) or `histplot` (an axes-level function for histograms).\n",
      "  warnings.warn(msg, FutureWarning)\n"
     ]
    },
    {
     "data": {
      "text/plain": [
       "<AxesSubplot:xlabel='fev', ylabel='Density'>"
      ]
     },
     "execution_count": 168,
     "metadata": {},
     "output_type": "execute_result"
    },
    {
     "data": {
      "image/png": "[encoded data removed]",
      "text/plain": [
       "<Figure size 432x288 with 1 Axes>"
      ]
     },
     "metadata": {
      "needs_background": "light"
     },
     "output_type": "display_data"
    }
   ],
   "source": [
    "sns.distplot(df.fev)"
   ]
  },
  {
   "cell_type": "code",
   "execution_count": 169,
   "metadata": {},
   "outputs": [
    {
     "name": "stderr",
     "output_type": "stream",
     "text": [
      "<ipython-input-169-fbb5e2cae805>:2: SettingWithCopyWarning: \n",
      "A value is trying to be set on a copy of a slice from a DataFrame.\n",
      "Try using .loc[row_indexer,col_indexer] = value instead\n",
      "\n",
      "See the caveats in the documentation: https://pandas.pydata.org/pandas-docs/stable/user_guide/indexing.html#returning-a-view-versus-a-copy\n",
      "  df_F_nonsmoker['Name'] = ('Female Non-Smoker')\n",
      "<ipython-input-169-fbb5e2cae805>:5: SettingWithCopyWarning: \n",
      "A value is trying to be set on a copy of a slice from a DataFrame.\n",
      "Try using .loc[row_indexer,col_indexer] = value instead\n",
      "\n",
      "See the caveats in the documentation: https://pandas.pydata.org/pandas-docs/stable/user_guide/indexing.html#returning-a-view-versus-a-copy\n",
      "  df_F_smoker['Name'] = ('Female Smoker')\n",
      "<ipython-input-169-fbb5e2cae805>:8: SettingWithCopyWarning: \n",
      "A value is trying to be set on a copy of a slice from a DataFrame.\n",
      "Try using .loc[row_indexer,col_indexer] = value instead\n",
      "\n",
      "See the caveats in the documentation: https://pandas.pydata.org/pandas-docs/stable/user_guide/indexing.html#returning-a-view-versus-a-copy\n",
      "  df_M_nonsmoker['Name'] = ('Male Non-Smoker')\n",
      "<ipython-input-169-fbb5e2cae805>:11: SettingWithCopyWarning: \n",
      "A value is trying to be set on a copy of a slice from a DataFrame.\n",
      "Try using .loc[row_indexer,col_indexer] = value instead\n",
      "\n",
      "See the caveats in the documentation: https://pandas.pydata.org/pandas-docs/stable/user_guide/indexing.html#returning-a-view-versus-a-copy\n",
      "  df_M_smoker['Name'] = ('Male Smoker')\n"
     ]
    }
   ],
   "source": [
    "df_F_nonsmoker = df[(df['sex'] == 0) & (df['smoke'] == 0 )]\n",
    "df_F_nonsmoker['Name'] = ('Female Non-Smoker')\n",
    "\n",
    "df_F_smoker = df[(df['sex'] == 0) & (df['smoke'] == 1 )]\n",
    "df_F_smoker['Name'] = ('Female Smoker')\n",
    "\n",
    "df_M_nonsmoker = df[(df['sex'] == 1) & (df['smoke'] == 0 )]\n",
    "df_M_nonsmoker['Name'] = ('Male Non-Smoker')\n",
    "\n",
    "df_M_smoker = df[(df['sex'] == 1) & (df['smoke'] == 1 )]\n",
    "df_M_smoker['Name'] = ('Male Smoker')\n",
    "\n",
    "df = pd.concat([df_F_nonsmoker, df_F_smoker, df_M_nonsmoker, df_M_smoker], axis=0)"
   ]
  },
  {
   "cell_type": "code",
   "execution_count": 170,
   "metadata": {},
   "outputs": [
    {
     "data": {
      "image/png": "[encoded data removed]",
      "text/plain": [
       "<Figure size 864x432 with 4 Axes>"
      ]
     },
     "metadata": {
      "needs_background": "light"
     },
     "output_type": "display_data"
    }
   ],
   "source": [
    "\n",
    "fig, ax = plt.subplots(nrows=2, ncols=2,figsize=(12,6), tight_layout=True, sharex=True, sharey=True)\n",
    "\n",
    "sns.kdeplot(df_F_nonsmoker.fev, ax=ax[0,0], legend=True, color=\"red\", shade=True, linewidth=2, label=\"n=\")\n",
    "ax[0,0].axvline(x=df_F_nonsmoker.fev.mean(), linestyle = '--', alpha =0.7, color=\"red\", linewidth=2)\n",
    "ax[0,0].set_xlabel(\"FEV1 (litres)\")\n",
    "ax[0,0].set_ylabel(\"Density\")\n",
    "ax[0,0].set_title(\"Female | Non-Smoker\")\n",
    "\n",
    "sns.kdeplot(df_F_smoker.fev, ax=ax[0,1], legend=True, color=\"green\", shade=True, linewidth=2, label=\"n=\")\n",
    "ax[0,1].axvline(x=df_F_smoker.fev.mean(), linestyle = '--', alpha =0.7, color=\"green\", linewidth=2)\n",
    "ax[0,1].set_xlabel(\"FEV1 (litres)\")\n",
    "ax[0,1].set_title(\"Female | Smoker\")\n",
    "\n",
    "sns.kdeplot(df_M_nonsmoker.fev, ax=ax[1,0], legend=True, color=\"blue\", shade=True, linewidth=2, label=\"n=\")\n",
    "ax[1,0].axvline(x=df_M_nonsmoker.fev.mean(), linestyle = '--', alpha =0.7, color=\"blue\", linewidth=2)\n",
    "ax[1,0].set_xlabel(\"FEV1 (litres)\")\n",
    "ax[1,0].set_ylabel(\"Density\")\n",
    "ax[1,0].set_title(\"Male | Non-Smoker\")\n",
    "\n",
    "sns.kdeplot(df_M_smoker.fev, ax=ax[1,1], legend=True, color=\"darkorange\", shade=True, linewidth=2, label=\"n=\")\n",
    "ax[1,1].axvline(x=df_M_smoker.fev.mean(), linestyle = '--', alpha =0.7, color=\"darkorange\", linewidth=2)\n",
    "ax[1,1].set_xlabel(\"FEV1 (litres)\")\n",
    "ax[1,1].set_title(\"Male | Smoker\")\n",
    "\n",
    "plt.legend()\n",
    "plt.show()"
   ]
  },
  {
   "cell_type": "code",
   "execution_count": 171,
   "metadata": {},
   "outputs": [
    {
     "data": {
      "text/html": [
       "<div>\n",
       "<style scoped>\n",
       "    .dataframe tbody tr th:only-of-type {\n",
       "        vertical-align: middle;\n",
       "    }\n",
       "\n",
       "    .dataframe tbody tr th {\n",
       "        vertical-align: top;\n",
       "    }\n",
       "\n",
       "    .dataframe thead th {\n",
       "        text-align: right;\n",
       "    }\n",
       "</style>\n",
       "<table border=\"1\" class=\"dataframe\">\n",
       "  <thead>\n",
       "    <tr style=\"text-align: right;\">\n",
       "      <th></th>\n",
       "      <th>age</th>\n",
       "      <th>height</th>\n",
       "      <th>sex</th>\n",
       "      <th>smoke</th>\n",
       "      <th>fev</th>\n",
       "      <th>Name</th>\n",
       "    </tr>\n",
       "  </thead>\n",
       "  <tbody>\n",
       "    <tr>\n",
       "      <th>0</th>\n",
       "      <td>9</td>\n",
       "      <td>57.0</td>\n",
       "      <td>0</td>\n",
       "      <td>0</td>\n",
       "      <td>1.708</td>\n",
       "      <td>Female Non-Smoker</td>\n",
       "    </tr>\n",
       "    <tr>\n",
       "      <th>1</th>\n",
       "      <td>8</td>\n",
       "      <td>67.5</td>\n",
       "      <td>0</td>\n",
       "      <td>0</td>\n",
       "      <td>1.724</td>\n",
       "      <td>Female Non-Smoker</td>\n",
       "    </tr>\n",
       "    <tr>\n",
       "      <th>2</th>\n",
       "      <td>7</td>\n",
       "      <td>54.5</td>\n",
       "      <td>0</td>\n",
       "      <td>0</td>\n",
       "      <td>1.720</td>\n",
       "      <td>Female Non-Smoker</td>\n",
       "    </tr>\n",
       "    <tr>\n",
       "      <th>5</th>\n",
       "      <td>8</td>\n",
       "      <td>61.0</td>\n",
       "      <td>0</td>\n",
       "      <td>0</td>\n",
       "      <td>2.336</td>\n",
       "      <td>Female Non-Smoker</td>\n",
       "    </tr>\n",
       "    <tr>\n",
       "      <th>6</th>\n",
       "      <td>6</td>\n",
       "      <td>58.0</td>\n",
       "      <td>0</td>\n",
       "      <td>0</td>\n",
       "      <td>1.919</td>\n",
       "      <td>Female Non-Smoker</td>\n",
       "    </tr>\n",
       "    <tr>\n",
       "      <th>...</th>\n",
       "      <td>...</td>\n",
       "      <td>...</td>\n",
       "      <td>...</td>\n",
       "      <td>...</td>\n",
       "      <td>...</td>\n",
       "      <td>...</td>\n",
       "    </tr>\n",
       "    <tr>\n",
       "      <th>639</th>\n",
       "      <td>16</td>\n",
       "      <td>69.5</td>\n",
       "      <td>1</td>\n",
       "      <td>1</td>\n",
       "      <td>4.070</td>\n",
       "      <td>Male Smoker</td>\n",
       "    </tr>\n",
       "    <tr>\n",
       "      <th>644</th>\n",
       "      <td>18</td>\n",
       "      <td>70.5</td>\n",
       "      <td>1</td>\n",
       "      <td>1</td>\n",
       "      <td>4.404</td>\n",
       "      <td>Male Smoker</td>\n",
       "    </tr>\n",
       "    <tr>\n",
       "      <th>648</th>\n",
       "      <td>16</td>\n",
       "      <td>72.0</td>\n",
       "      <td>1</td>\n",
       "      <td>1</td>\n",
       "      <td>4.872</td>\n",
       "      <td>Male Smoker</td>\n",
       "    </tr>\n",
       "    <tr>\n",
       "      <th>649</th>\n",
       "      <td>16</td>\n",
       "      <td>67.0</td>\n",
       "      <td>1</td>\n",
       "      <td>1</td>\n",
       "      <td>4.270</td>\n",
       "      <td>Male Smoker</td>\n",
       "    </tr>\n",
       "    <tr>\n",
       "      <th>650</th>\n",
       "      <td>15</td>\n",
       "      <td>68.0</td>\n",
       "      <td>1</td>\n",
       "      <td>1</td>\n",
       "      <td>3.727</td>\n",
       "      <td>Male Smoker</td>\n",
       "    </tr>\n",
       "  </tbody>\n",
       "</table>\n",
       "<p>654 rows × 6 columns</p>\n",
       "</div>"
      ],
      "text/plain": [
       "     age  height  sex  smoke    fev               Name\n",
       "0      9    57.0    0      0  1.708  Female Non-Smoker\n",
       "1      8    67.5    0      0  1.724  Female Non-Smoker\n",
       "2      7    54.5    0      0  1.720  Female Non-Smoker\n",
       "5      8    61.0    0      0  2.336  Female Non-Smoker\n",
       "6      6    58.0    0      0  1.919  Female Non-Smoker\n",
       "..   ...     ...  ...    ...    ...                ...\n",
       "639   16    69.5    1      1  4.070        Male Smoker\n",
       "644   18    70.5    1      1  4.404        Male Smoker\n",
       "648   16    72.0    1      1  4.872        Male Smoker\n",
       "649   16    67.0    1      1  4.270        Male Smoker\n",
       "650   15    68.0    1      1  3.727        Male Smoker\n",
       "\n",
       "[654 rows x 6 columns]"
      ]
     },
     "execution_count": 171,
     "metadata": {},
     "output_type": "execute_result"
    }
   ],
   "source": [
    "df\n"
   ]
  },
  {
   "cell_type": "code",
   "execution_count": 172,
   "metadata": {},
   "outputs": [
    {
     "data": {
      "text/plain": [
       "<seaborn.axisgrid.FacetGrid at 0x2bce9b8d910>"
      ]
     },
     "execution_count": 172,
     "metadata": {},
     "output_type": "execute_result"
    },
    {
     "data": {
      "image/png": "[encoded data removed]",
      "text/plain": [
       "<Figure size 765.725x360 with 2 Axes>"
      ]
     },
     "metadata": {
      "needs_background": "light"
     },
     "output_type": "display_data"
    }
   ],
   "source": [
    "sns.displot(data=df, x=\"fev\", hue=\"smoke\", col=\"sex\", kind=\"kde\", palette=\"colorblind\")\n",
    "#place mean lines\n"
   ]
  },
  {
   "cell_type": "code",
   "execution_count": 173,
   "metadata": {},
   "outputs": [
    {
     "data": {
      "text/plain": [
       "<seaborn.axisgrid.FacetGrid at 0x2bce9b8bd30>"
      ]
     },
     "execution_count": 173,
     "metadata": {},
     "output_type": "execute_result"
    },
    {
     "data": {
      "image/png": "[encoded data removed]",
      "text/plain": [
       "<Figure size 448.925x288 with 2 Axes>"
      ]
     },
     "metadata": {
      "needs_background": "light"
     },
     "output_type": "display_data"
    }
   ],
   "source": [
    "g = sns.displot(data=df, y=\"fev\", hue=\"smoke\", col=\"sex\",kind=\"kde\", height=4, aspect=.7)\n",
    "g.set_axis_labels(\"Density (a.u.)\", \"FEV (liters)\")\n",
    "g.set_titles(\"{col_name} FEV\")"
   ]
  },
  {
   "cell_type": "code",
   "execution_count": 175,
   "metadata": {},
   "outputs": [
    {
     "data": {
      "text/plain": [
       "<seaborn.axisgrid.FacetGrid at 0x2bced76f460>"
      ]
     },
     "execution_count": 175,
     "metadata": {},
     "output_type": "execute_result"
    },
    {
     "data": {
      "image/png": "[encoded data removed]",
      "text/plain": [
       "<Figure size 360x360 with 1 Axes>"
      ]
     },
     "metadata": {
      "needs_background": "light"
     },
     "output_type": "display_data"
    }
   ],
   "source": [
    "sns.displot(data=df, x=\"age\", y=\"fev\")"
   ]
  },
  {
   "cell_type": "code",
   "execution_count": 176,
   "metadata": {},
   "outputs": [
    {
     "data": {
      "text/plain": [
       "<seaborn.axisgrid.FacetGrid at 0x2bcedba6e50>"
      ]
     },
     "execution_count": 176,
     "metadata": {},
     "output_type": "execute_result"
    },
    {
     "data": {
      "image/png": "[encoded data removed]",
      "text/plain": [
       "<Figure size 360x360 with 1 Axes>"
      ]
     },
     "metadata": {
      "needs_background": "light"
     },
     "output_type": "display_data"
    }
   ],
   "source": [
    "sns.displot(data=df, x=\"height\", y=\"fev\")"
   ]
  },
  {
   "cell_type": "code",
   "execution_count": 177,
   "metadata": {},
   "outputs": [
    {
     "data": {
      "text/plain": [
       "(0.0, 14.0)"
      ]
     },
     "execution_count": 177,
     "metadata": {},
     "output_type": "execute_result"
    },
    {
     "data": {
      "image/png": "[encoded data removed]",
      "text/plain": [
       "<Figure size 432x288 with 2 Axes>"
      ]
     },
     "metadata": {
      "needs_background": "light"
     },
     "output_type": "display_data"
    }
   ],
   "source": [
    "#height min and max\n",
    "height_min = min(df['height'])\n",
    "height_max = max(df['height'])\n",
    "\n",
    "#age min and max\n",
    "age_min = min(df['age'])\n",
    "age_max = max(df['age'])\n",
    "\n",
    "height_bins_step = 2\n",
    "height_bins = np.arange(height_min, height_max+height_bins_step, height_bins_step)\n",
    "\n",
    "age_bins_step = 2\n",
    "age_bins = np.arange(age_min, age_max+age_bins_step, age_bins_step)\n",
    "\n",
    "df['height_binned'] = pd.cut(df['height'], height_bins)\n",
    "df['age_binned'] = pd.cut(df['age'], age_bins)\n",
    "\n",
    "df_new = df.groupby(['height_binned', 'age_binned']).size().reset_index(name='count') #wrangle count data\n",
    "\n",
    "df_new = df_new.pivot(\"height_binned\", \"age_binned\", \"count\")\n",
    "ax = sns.heatmap(df_new, annot=True, fmt=\"d\", cmap=\"YlGnBu\", linewidths=1.0)\n",
    "\n",
    "plt.ylim(reversed(plt.ylim()))"
   ]
  },
  {
   "cell_type": "code",
   "execution_count": 178,
   "metadata": {},
   "outputs": [
    {
     "data": {
      "text/plain": [
       "<seaborn.axisgrid.FacetGrid at 0x2bceeee9700>"
      ]
     },
     "execution_count": 178,
     "metadata": {},
     "output_type": "execute_result"
    },
    {
     "data": {
      "image/png": "[encoded data removed]",
      "text/plain": [
       "<Figure size 720x360 with 2 Axes>"
      ]
     },
     "metadata": {
      "needs_background": "light"
     },
     "output_type": "display_data"
    }
   ],
   "source": [
    "sns.lmplot(x=\"age\", y=\"fev\" ,data=df, col='sex')"
   ]
  },
  {
   "cell_type": "code",
   "execution_count": 179,
   "metadata": {},
   "outputs": [
    {
     "data": {
      "text/plain": [
       "<seaborn.axisgrid.FacetGrid at 0x2bcf2bc5070>"
      ]
     },
     "execution_count": 179,
     "metadata": {},
     "output_type": "execute_result"
    },
    {
     "data": {
      "image/png": "[encoded data removed]",
      "text/plain": [
       "<Figure size 720x360 with 2 Axes>"
      ]
     },
     "metadata": {
      "needs_background": "light"
     },
     "output_type": "display_data"
    }
   ],
   "source": [
    "sns.lmplot(x=\"height\", y=\"fev\" ,data=df, col='sex')"
   ]
  },
  {
   "cell_type": "code",
   "execution_count": 180,
   "metadata": {},
   "outputs": [
    {
     "name": "stderr",
     "output_type": "stream",
     "text": [
      "<ipython-input-180-e564a4629f5d>:2: SettingWithCopyWarning: \n",
      "A value is trying to be set on a copy of a slice from a DataFrame.\n",
      "Try using .loc[row_indexer,col_indexer] = value instead\n",
      "\n",
      "See the caveats in the documentation: https://pandas.pydata.org/pandas-docs/stable/user_guide/indexing.html#returning-a-view-versus-a-copy\n",
      "  df_F_nonsmoker['Name'] = ('Female Non-Smoker')\n",
      "<ipython-input-180-e564a4629f5d>:5: SettingWithCopyWarning: \n",
      "A value is trying to be set on a copy of a slice from a DataFrame.\n",
      "Try using .loc[row_indexer,col_indexer] = value instead\n",
      "\n",
      "See the caveats in the documentation: https://pandas.pydata.org/pandas-docs/stable/user_guide/indexing.html#returning-a-view-versus-a-copy\n",
      "  df_F_smoker['Name'] = ('Female Smoker')\n",
      "<ipython-input-180-e564a4629f5d>:8: SettingWithCopyWarning: \n",
      "A value is trying to be set on a copy of a slice from a DataFrame.\n",
      "Try using .loc[row_indexer,col_indexer] = value instead\n",
      "\n",
      "See the caveats in the documentation: https://pandas.pydata.org/pandas-docs/stable/user_guide/indexing.html#returning-a-view-versus-a-copy\n",
      "  df_M_nonsmoker['Name'] = ('Male Non-Smoker')\n",
      "<ipython-input-180-e564a4629f5d>:11: SettingWithCopyWarning: \n",
      "A value is trying to be set on a copy of a slice from a DataFrame.\n",
      "Try using .loc[row_indexer,col_indexer] = value instead\n",
      "\n",
      "See the caveats in the documentation: https://pandas.pydata.org/pandas-docs/stable/user_guide/indexing.html#returning-a-view-versus-a-copy\n",
      "  df_M_smoker['Name'] = ('Male Smoker')\n"
     ]
    }
   ],
   "source": [
    "df_F_nonsmoker = df[(df['sex'] == 0) & (df['smoke'] == 0 )]\n",
    "df_F_nonsmoker['Name'] = ('Female Non-Smoker')\n",
    "\n",
    "df_F_smoker = df[(df['sex'] == 0) & (df['smoke'] == 1 )]\n",
    "df_F_smoker['Name'] = ('Female Smoker')\n",
    "\n",
    "df_M_nonsmoker = df[(df['sex'] == 1) & (df['smoke'] == 0 )]\n",
    "df_M_nonsmoker['Name'] = ('Male Non-Smoker')\n",
    "\n",
    "df_M_smoker = df[(df['sex'] == 1) & (df['smoke'] == 1 )]\n",
    "df_M_smoker['Name'] = ('Male Smoker')\n",
    "\n",
    "df_F = pd.concat([df_F_nonsmoker, df_F_smoker], axis=0)\n",
    "\n",
    "df_M = pd.concat([df_M_nonsmoker, df_M_smoker], axis=0)"
   ]
  },
  {
   "cell_type": "code",
   "execution_count": 181,
   "metadata": {},
   "outputs": [
    {
     "data": {
      "text/plain": [
       "<Figure size 1080x576 with 0 Axes>"
      ]
     },
     "metadata": {},
     "output_type": "display_data"
    },
    {
     "data": {
      "image/png": "[encoded data removed]",
      "text/plain": [
       "<Figure size 720x360 with 3 Axes>"
      ]
     },
     "metadata": {
      "needs_background": "light"
     },
     "output_type": "display_data"
    }
   ],
   "source": [
    "plt.figure(figsize = (15,8))\n",
    "g = sns.jointplot(data=df_F, x=\"age\", y=\"fev\", hue=\"Name\")\n",
    "\n",
    "for _,gr in df.groupby(\"Name\"):\n",
    "    sns.regplot(x=\"age\", y=\"fev\", data=df_F, scatter=False, ax=g.ax_joint, truncate=False)\n",
    "\n",
    "g.fig.set_size_inches(10,5)\n",
    "plt.show()"
   ]
  },
  {
   "cell_type": "code",
   "execution_count": 182,
   "metadata": {},
   "outputs": [
    {
     "data": {
      "image/png": "[encoded data removed]",
      "text/plain": [
       "<Figure size 720x360 with 3 Axes>"
      ]
     },
     "metadata": {
      "needs_background": "light"
     },
     "output_type": "display_data"
    }
   ],
   "source": [
    "\n",
    "\n",
    "g = sns.jointplot(data=df_M, x=\"age\", y=\"fev\", hue=\"Name\")\n",
    "\n",
    "for _,gr in df.groupby(\"Name\"):\n",
    "    sns.regplot(x=\"age\", y=\"fev\", data=df_M, scatter=False, ax=g.ax_joint, truncate=False)\n",
    "\n",
    "g.fig.set_size_inches(10,5)\n",
    "plt.show()"
   ]
  },
  {
   "cell_type": "code",
   "execution_count": 193,
   "metadata": {},
   "outputs": [
    {
     "name": "stderr",
     "output_type": "stream",
     "text": [
      "<ipython-input-193-6d83f8cf80e2>:2: SettingWithCopyWarning: \n",
      "A value is trying to be set on a copy of a slice from a DataFrame.\n",
      "Try using .loc[row_indexer,col_indexer] = value instead\n",
      "\n",
      "See the caveats in the documentation: https://pandas.pydata.org/pandas-docs/stable/user_guide/indexing.html#returning-a-view-versus-a-copy\n",
      "  df_F_nonsmoker['Name'] = ('Female Non-Smoker')\n",
      "<ipython-input-193-6d83f8cf80e2>:5: SettingWithCopyWarning: \n",
      "A value is trying to be set on a copy of a slice from a DataFrame.\n",
      "Try using .loc[row_indexer,col_indexer] = value instead\n",
      "\n",
      "See the caveats in the documentation: https://pandas.pydata.org/pandas-docs/stable/user_guide/indexing.html#returning-a-view-versus-a-copy\n",
      "  df_F_smoker['Name'] = ('Female Smoker')\n",
      "<ipython-input-193-6d83f8cf80e2>:8: SettingWithCopyWarning: \n",
      "A value is trying to be set on a copy of a slice from a DataFrame.\n",
      "Try using .loc[row_indexer,col_indexer] = value instead\n",
      "\n",
      "See the caveats in the documentation: https://pandas.pydata.org/pandas-docs/stable/user_guide/indexing.html#returning-a-view-versus-a-copy\n",
      "  df_M_nonsmoker['Name'] = ('Male Non-Smoker')\n",
      "<ipython-input-193-6d83f8cf80e2>:11: SettingWithCopyWarning: \n",
      "A value is trying to be set on a copy of a slice from a DataFrame.\n",
      "Try using .loc[row_indexer,col_indexer] = value instead\n",
      "\n",
      "See the caveats in the documentation: https://pandas.pydata.org/pandas-docs/stable/user_guide/indexing.html#returning-a-view-versus-a-copy\n",
      "  df_M_smoker['Name'] = ('Male Smoker')\n"
     ]
    }
   ],
   "source": [
    "\n",
    "df_F_nonsmoker = df[(df['sex'] == 0) & (df['smoke'] == 0 )]\n",
    "df_F_nonsmoker['Name'] = ('Female Non-Smoker')\n",
    "\n",
    "df_F_smoker = df[(df['sex'] == 0) & (df['smoke'] == 1 )]\n",
    "df_F_smoker['Name'] = ('Female Smoker')\n",
    "\n",
    "df_M_nonsmoker = df[(df['sex'] == 1) & (df['smoke'] == 0 )]\n",
    "df_M_nonsmoker['Name'] = ('Male Non-Smoker')\n",
    "\n",
    "df_M_smoker = df[(df['sex'] == 1) & (df['smoke'] == 1 )]\n",
    "df_M_smoker['Name'] = ('Male Smoker')\n",
    "\n",
    "df = pd.concat([df_F_nonsmoker, df_F_smoker, df_M_nonsmoker, df_M_smoker], axis=0)\n",
    "\n",
    "\n",
    "\n",
    "\n"
   ]
  },
  {
   "cell_type": "code",
   "execution_count": 196,
   "metadata": {},
   "outputs": [
    {
     "data": {
      "application/vnd.plotly.v1+json": {
       "config": {
        "plotlyServerURL": "https://plot.ly"
       },
       "data": [
        {
         "hovertemplate": "Name=Female Non-Smoker<br>age=%{x}<br>fev=%{y}<br>height=%{z}<extra></extra>",
         "legendgroup": "Female Non-Smoker",
         "marker": {
          "color": "#636efa",
          "symbol": "circle"
         },
         "mode": "markers",
         "name": "Female Non-Smoker",
         "scene": "scene",
         "showlegend": true,
         "type": "scatter3d",
         "x": [
          9,
          8,
          7,
          8,
          6,
          6,
          8,
          9,
          6,
          8,
          6,
          5,
          5,
          4,
          9,
          8,
          9,
          5,
          8,
          7,
          5,
          8,
          9,
          8,
          5,
          9,
          8,
          9,
          9,
          7,
          4,
          8,
          8,
          6,
          4,
          7,
          5,
          9,
          8,
          6,
          7,
          6,
          7,
          8,
          9,
          8,
          8,
          8,
          9,
          7,
          7,
          8,
          7,
          7,
          8,
          7,
          5,
          8,
          7,
          7,
          8,
          9,
          7,
          8,
          9,
          8,
          5,
          9,
          9,
          8,
          9,
          8,
          9,
          7,
          9,
          9,
          8,
          5,
          8,
          9,
          9,
          9,
          9,
          9,
          5,
          9,
          6,
          9,
          5,
          8,
          8,
          8,
          5,
          9,
          7,
          8,
          7,
          6,
          9,
          9,
          8,
          9,
          7,
          9,
          4,
          9,
          8,
          9,
          8,
          3,
          8,
          7,
          6,
          9,
          4,
          8,
          9,
          6,
          6,
          9,
          8,
          7,
          7,
          9,
          8,
          9,
          6,
          8,
          8,
          7,
          5,
          9,
          9,
          7,
          7,
          5,
          8,
          6,
          9,
          7,
          7,
          8,
          4,
          8,
          8,
          7,
          9,
          9,
          8,
          9,
          6,
          8,
          7,
          8,
          7,
          11,
          12,
          10,
          12,
          10,
          13,
          11,
          11,
          11,
          13,
          10,
          12,
          11,
          11,
          11,
          11,
          10,
          13,
          10,
          11,
          11,
          11,
          10,
          13,
          10,
          11,
          11,
          13,
          10,
          10,
          10,
          10,
          11,
          11,
          14,
          12,
          10,
          12,
          11,
          11,
          10,
          11,
          13,
          10,
          11,
          14,
          13,
          11,
          10,
          13,
          10,
          12,
          10,
          12,
          11,
          11,
          10,
          12,
          10,
          11,
          14,
          10,
          12,
          12,
          12,
          11,
          11,
          11,
          10,
          12,
          10,
          11,
          11,
          13,
          10,
          12,
          11,
          11,
          11,
          13,
          12,
          12,
          14,
          11,
          11,
          12,
          13,
          12,
          11,
          13,
          10,
          10,
          11,
          14,
          10,
          10,
          12,
          12,
          10,
          12,
          12,
          10,
          12,
          10,
          13,
          12,
          11,
          11,
          14,
          11,
          12,
          11,
          13,
          12,
          18,
          15,
          18,
          16,
          17,
          16,
          15,
          16,
          18,
          15
         ],
         "y": [
          1.708,
          1.724,
          1.72,
          2.336,
          1.919,
          1.415,
          1.987,
          1.942,
          1.602,
          2.193,
          1.878,
          1.4,
          1.256,
          0.839,
          2.988,
          2.98,
          2.1,
          1.282,
          2.673,
          2.093,
          1.612,
          2.175,
          3.135,
          1.931,
          1.343,
          2.076,
          1.344,
          2.797,
          3.016,
          2.419,
          1.569,
          1.698,
          2.481,
          1.481,
          1.577,
          1.631,
          1.536,
          2.56,
          2.531,
          1.719,
          2.111,
          1.695,
          1.917,
          2.144,
          3.029,
          2.215,
          2.388,
          1.292,
          2.574,
          1.742,
          1.603,
          2.639,
          1.829,
          1.473,
          2.341,
          1.698,
          1.196,
          1.872,
          1.827,
          1.461,
          1.697,
          2.04,
          1.609,
          2.458,
          1.947,
          2.288,
          0.791,
          2.463,
          2.631,
          2.293,
          3.042,
          2.665,
          2.592,
          1.75,
          2.259,
          2.048,
          1.78,
          1.552,
          1.953,
          2.851,
          3.004,
          1.933,
          2.091,
          2.316,
          1.704,
          1.606,
          2.102,
          2.32,
          1.146,
          2.187,
          1.335,
          2.709,
          1.092,
          2.166,
          1.69,
          2.145,
          2.095,
          1.697,
          2.455,
          2.13,
          2.993,
          2.529,
          1.726,
          2.442,
          1.102,
          2.056,
          2.305,
          1.969,
          1.556,
          1.072,
          1.512,
          1.37,
          1.338,
          2.639,
          1.389,
          2.135,
          3.223,
          1.796,
          1.523,
          2.485,
          2.335,
          1.415,
          1.728,
          2.85,
          1.844,
          1.754,
          1.343,
          2.476,
          2.382,
          1.64,
          1.589,
          1.886,
          1.912,
          1.877,
          1.935,
          1.539,
          2.358,
          1.535,
          2.182,
          2.002,
          2.366,
          2.069,
          1.418,
          2.333,
          1.758,
          2.564,
          2.487,
          1.591,
          1.999,
          2.688,
          1.672,
          2.015,
          2.371,
          2.328,
          1.495,
          2.17,
          3.058,
          2.642,
          2.841,
          3.166,
          3.816,
          3.654,
          2.665,
          3.49,
          3.147,
          2.52,
          2.889,
          2.386,
          2.762,
          3.011,
          3.236,
          2.864,
          2.819,
          2.25,
          2.346,
          2.754,
          2.633,
          3.048,
          3.745,
          3.183,
          3.411,
          3.171,
          2.646,
          2.504,
          2.891,
          1.823,
          2.175,
          2.735,
          2.318,
          3.395,
          2.751,
          2.673,
          2.556,
          2.542,
          2.354,
          1.458,
          2.491,
          3.06,
          3.305,
          3.774,
          3.169,
          2.704,
          3.515,
          2.287,
          2.434,
          2.365,
          2.868,
          2.813,
          3.255,
          3.223,
          2.606,
          2.358,
          2.347,
          2.691,
          2.827,
          2.538,
          3.05,
          3.079,
          3.403,
          3.501,
          2.578,
          2.081,
          2.974,
          2.25,
          2.752,
          2.862,
          3.023,
          3.681,
          3.255,
          2.356,
          3.082,
          3.258,
          2.362,
          2.563,
          3.331,
          2.417,
          2.866,
          2.891,
          3.022,
          2.866,
          2.605,
          3.056,
          2.569,
          2.501,
          2.449,
          3.073,
          2.688,
          2.689,
          2.934,
          2.435,
          2.838,
          3.035,
          2.714,
          3.086,
          3.519,
          3.341,
          2.568,
          3.001,
          3.132,
          3.577,
          3.222,
          2.822,
          2.14,
          2.997,
          2.562,
          3.082,
          2.458,
          3.141,
          2.579,
          2.906,
          2.635,
          3.082,
          3.387,
          3.5,
          3.674,
          2.887,
          2.981,
          2.853,
          3.211
         ],
         "z": [
          57,
          67.5,
          54.5,
          61,
          58,
          56,
          58.5,
          60,
          53,
          58.5,
          53,
          49,
          52.5,
          48,
          65,
          60,
          60,
          49,
          60,
          57.5,
          52,
          59,
          60,
          57,
          50,
          57,
          52.5,
          61.5,
          62.5,
          60,
          50,
          57.5,
          60,
          51,
          49,
          55.5,
          52,
          60.5,
          58,
          53,
          57,
          53,
          58,
          63,
          61.5,
          60,
          60,
          52,
          60.5,
          58.5,
          51,
          59.5,
          54,
          52.5,
          60.5,
          54.5,
          46.5,
          56.5,
          54.5,
          54,
          59,
          55.5,
          51.5,
          61,
          56.5,
          61.5,
          52,
          61,
          62,
          58,
          66,
          64,
          60.5,
          55,
          58.5,
          64.5,
          58.5,
          54,
          58,
          60,
          64,
          58,
          58.5,
          59.5,
          51,
          57.5,
          55.5,
          57,
          50,
          61.5,
          56.5,
          62.5,
          50,
          57.5,
          54,
          59.5,
          57,
          55,
          60,
          59,
          63,
          59,
          53,
          61.5,
          48,
          63,
          64.5,
          59,
          58.5,
          46,
          53,
          55,
          51.5,
          63,
          48,
          59,
          65,
          55,
          51,
          64,
          59,
          53.5,
          56.5,
          63,
          56.5,
          61.5,
          52,
          63,
          62,
          55,
          51,
          56,
          59,
          52.5,
          52.5,
          50,
          61,
          55,
          59.5,
          57.5,
          58,
          60,
          49,
          57,
          52,
          58,
          64,
          57,
          56.5,
          59.5,
          54,
          57.5,
          55.5,
          60,
          57,
          58,
          60.5,
          61,
          63,
          61.5,
          63.5,
          65,
          63,
          67,
          64,
          60.5,
          64,
          61.5,
          60,
          64,
          66,
          60,
          62,
          58,
          59,
          65.5,
          62,
          65.5,
          68,
          65.5,
          63.5,
          63,
          61.5,
          60,
          61,
          57,
          58,
          62.5,
          59,
          67,
          63,
          64.5,
          62,
          62,
          62,
          57,
          59,
          61.5,
          65,
          67,
          64,
          61,
          64,
          61,
          65.4,
          63.5,
          62,
          61.5,
          66,
          64.5,
          65,
          59,
          61.5,
          67,
          62.5,
          71,
          60,
          60,
          62,
          64.5,
          63,
          63,
          62,
          58,
          63.5,
          61,
          67.5,
          68,
          66.5,
          60.5,
          63.5,
          63,
          61,
          63,
          65.5,
          61,
          62,
          62,
          61.5,
          60.5,
          62.5,
          63,
          63,
          62,
          63,
          66,
          62,
          61.5,
          64,
          65,
          63,
          62,
          65.5,
          62,
          65.5,
          65.5,
          63.5,
          63.5,
          59.5,
          63.5,
          61,
          62,
          60.5,
          64.5,
          62.5,
          64.5,
          60,
          61,
          63,
          66,
          64,
          64.5,
          66.5,
          62,
          67.5,
          63,
          66,
          60,
          66.5
         ]
        },
        {
         "hovertemplate": "Name=Female Smoker<br>age=%{x}<br>fev=%{y}<br>height=%{z}<extra></extra>",
         "legendgroup": "Female Smoker",
         "marker": {
          "color": "#EF553B",
          "symbol": "circle"
         },
         "mode": "markers",
         "name": "Female Smoker",
         "scene": "scene",
         "showlegend": true,
         "type": "scatter3d",
         "x": [
          14,
          14,
          13,
          12,
          14,
          10,
          12,
          13,
          13,
          10,
          10,
          11,
          13,
          13,
          12,
          13,
          11,
          13,
          13,
          12,
          11,
          13,
          10,
          11,
          13,
          11,
          11,
          19,
          15,
          15,
          19,
          16,
          15,
          15,
          15,
          16,
          15,
          15,
          16
         ],
         "y": [
          2.236,
          3.428,
          3.208,
          2.384,
          3.074,
          2.387,
          3.835,
          2.599,
          3.086,
          3.413,
          2.975,
          3.169,
          2.216,
          3.078,
          3.186,
          3.297,
          3.102,
          2.677,
          3.297,
          2.759,
          2.953,
          3.785,
          3.038,
          3.12,
          3.152,
          3.104,
          3.069,
          3.519,
          2.679,
          2.198,
          3.345,
          2.903,
          3.004,
          3.122,
          3.33,
          2.608,
          2.264,
          2.278,
          2.795
         ],
         "z": [
          66,
          64,
          61,
          63.5,
          65,
          66,
          69.5,
          62.5,
          67.5,
          66,
          63,
          62.5,
          68,
          66,
          67,
          65,
          64,
          67,
          65,
          61.5,
          67,
          63,
          65,
          61,
          62,
          67.5,
          65,
          66,
          66,
          62,
          65.5,
          63,
          64,
          64,
          68.5,
          62,
          63,
          60,
          63
         ]
        },
        {
         "hovertemplate": "Name=Male Non-Smoker<br>age=%{x}<br>fev=%{y}<br>height=%{z}<extra></extra>",
         "legendgroup": "Male Non-Smoker",
         "marker": {
          "color": "#00cc96",
          "symbol": "circle"
         },
         "mode": "markers",
         "name": "Male Non-Smoker",
         "scene": "scene",
         "showlegend": true,
         "type": "scatter3d",
         "x": [
          9,
          9,
          8,
          8,
          8,
          7,
          5,
          9,
          9,
          7,
          3,
          9,
          5,
          9,
          9,
          8,
          8,
          8,
          8,
          5,
          7,
          6,
          8,
          5,
          9,
          8,
          6,
          9,
          8,
          8,
          6,
          9,
          8,
          9,
          9,
          9,
          7,
          5,
          5,
          9,
          8,
          8,
          7,
          9,
          5,
          9,
          9,
          7,
          9,
          9,
          9,
          7,
          8,
          7,
          9,
          4,
          6,
          8,
          6,
          7,
          7,
          7,
          9,
          6,
          8,
          8,
          9,
          8,
          8,
          8,
          6,
          6,
          9,
          7,
          6,
          9,
          9,
          6,
          8,
          9,
          9,
          8,
          6,
          9,
          7,
          9,
          6,
          6,
          8,
          5,
          7,
          7,
          4,
          8,
          7,
          9,
          9,
          7,
          9,
          7,
          9,
          6,
          6,
          9,
          6,
          6,
          9,
          5,
          7,
          9,
          5,
          9,
          6,
          9,
          8,
          8,
          8,
          7,
          8,
          8,
          8,
          9,
          8,
          8,
          9,
          9,
          9,
          7,
          8,
          9,
          6,
          8,
          7,
          9,
          9,
          8,
          9,
          7,
          5,
          5,
          6,
          8,
          5,
          7,
          8,
          9,
          6,
          9,
          4,
          6,
          7,
          8,
          5,
          11,
          10,
          14,
          11,
          10,
          11,
          14,
          13,
          14,
          12,
          10,
          10,
          10,
          13,
          11,
          10,
          10,
          10,
          10,
          10,
          11,
          11,
          10,
          13,
          13,
          11,
          14,
          11,
          10,
          10,
          14,
          10,
          11,
          13,
          12,
          10,
          13,
          11,
          10,
          11,
          11,
          10,
          11,
          10,
          13,
          11,
          11,
          12,
          11,
          14,
          13,
          11,
          11,
          10,
          10,
          10,
          11,
          10,
          11,
          11,
          11,
          11,
          10,
          11,
          14,
          12,
          10,
          10,
          10,
          12,
          13,
          12,
          11,
          12,
          12,
          12,
          13,
          11,
          10,
          12,
          13,
          12,
          10,
          10,
          10,
          10,
          10,
          10,
          12,
          13,
          13,
          14,
          12,
          10,
          10,
          11,
          11,
          11,
          14,
          12,
          13,
          10,
          10,
          12,
          11,
          11,
          12,
          10,
          11,
          11,
          14,
          11,
          12,
          10,
          12,
          10,
          10,
          14,
          12,
          11,
          12,
          10,
          11,
          12,
          11,
          13,
          10,
          10,
          13,
          12,
          12,
          11,
          12,
          11,
          11,
          11,
          12,
          14,
          10,
          10,
          11,
          15,
          19,
          17,
          15,
          15,
          15,
          15,
          18,
          17,
          15,
          17,
          16,
          17,
          16,
          16,
          17
         ],
         "y": [
          1.558,
          1.895,
          1.735,
          2.118,
          2.258,
          1.932,
          1.472,
          2.352,
          2.604,
          2.578,
          1.404,
          2.348,
          1.755,
          3,
          2.725,
          2.071,
          1.547,
          2.004,
          2.42,
          1.776,
          1.624,
          1.65,
          2.732,
          2.017,
          3.556,
          1.703,
          1.634,
          2.57,
          2.123,
          1.94,
          1.747,
          2.069,
          1.962,
          2.715,
          2.457,
          2.09,
          1.789,
          1.858,
          1.452,
          3.842,
          2.211,
          1.794,
          1.253,
          2.659,
          1.58,
          2.126,
          2.964,
          1.611,
          2.196,
          1.751,
          2.165,
          1.682,
          1.523,
          1.649,
          2.588,
          0.796,
          1.979,
          2.354,
          1.718,
          2.084,
          2.22,
          2.219,
          2.42,
          1.338,
          2.09,
          1.562,
          2.65,
          1.429,
          1.675,
          2.069,
          1.572,
          1.348,
          1.773,
          1.905,
          1.431,
          3.114,
          2.135,
          1.527,
          2.927,
          2.301,
          2.46,
          1.759,
          1.536,
          2.571,
          2.046,
          2.893,
          1.713,
          1.624,
          2.631,
          1.819,
          1.658,
          2.158,
          1.789,
          2.503,
          1.165,
          2.23,
          1.716,
          1.79,
          2.717,
          1.796,
          2.119,
          1.666,
          1.826,
          2.871,
          2.262,
          2.104,
          2.973,
          1.971,
          1.92,
          2.164,
          1.808,
          2.042,
          1.423,
          3.681,
          1.991,
          1.897,
          2.016,
          1.612,
          2.681,
          2.01,
          1.744,
          2.076,
          2.435,
          2.303,
          2.246,
          3.239,
          2.457,
          2.056,
          2.226,
          2.833,
          1.715,
          2.631,
          2.55,
          2.803,
          2.923,
          2.094,
          1.855,
          2.135,
          1.93,
          1.359,
          1.699,
          2.5,
          1.514,
          2.535,
          1.624,
          2.798,
          1.691,
          1.869,
          1.004,
          1.427,
          1.826,
          1.657,
          2.115,
          2.884,
          2.328,
          3.381,
          3.47,
          1.811,
          2.524,
          3.741,
          4.336,
          4.842,
          4.55,
          2.561,
          2.481,
          3.203,
          3.549,
          3.222,
          3.111,
          2.292,
          2.246,
          1.937,
          2.646,
          2.957,
          4.007,
          3.251,
          4.305,
          3.906,
          3.583,
          3.436,
          3.058,
          3.007,
          3.489,
          4.683,
          2.352,
          3.108,
          3.994,
          4.393,
          2.592,
          3.193,
          3.515,
          2.72,
          2.463,
          3.111,
          2.094,
          3.977,
          3.354,
          3.887,
          3.587,
          3.845,
          2.971,
          2.417,
          4.273,
          2.976,
          4.065,
          3.596,
          2.608,
          3.795,
          2.545,
          2.993,
          2.855,
          2.988,
          2.498,
          2.887,
          3.425,
          2.696,
          4.593,
          4.111,
          1.916,
          1.858,
          3.35,
          2.901,
          2.241,
          4.225,
          5.224,
          4.073,
          4.08,
          4.411,
          3.791,
          3.089,
          2.465,
          3.2,
          2.913,
          4.877,
          3.279,
          2.581,
          1.873,
          2.758,
          2.201,
          1.858,
          1.665,
          4.073,
          4.448,
          3.984,
          3.68,
          3.692,
          4.591,
          2.216,
          3.247,
          4.324,
          3.206,
          3.585,
          4.72,
          5.083,
          2.364,
          2.341,
          3.231,
          3.078,
          3.369,
          3.529,
          3.127,
          3.32,
          2.123,
          3.78,
          3.847,
          3.924,
          2.132,
          2.752,
          3.456,
          3.329,
          4.271,
          3.53,
          2.928,
          2.332,
          3.11,
          2.894,
          4.831,
          2.812,
          4.232,
          2.77,
          3.09,
          2.531,
          2.822,
          2.935,
          2.387,
          2.499,
          4.13,
          3.28,
          2.659,
          4.203,
          3.806,
          2.391,
          2.1,
          2.785,
          4.284,
          5.102,
          4.429,
          4.279,
          4.5,
          5.793,
          3.985,
          4.22,
          4.724,
          3.731,
          5.633,
          3.645,
          3.96,
          4.299,
          4.504,
          5.638
         ],
         "z": [
          53,
          57,
          54,
          60.5,
          58,
          53,
          50,
          59,
          61.5,
          62.5,
          51.5,
          60,
          52,
          65.5,
          59,
          55,
          57,
          57,
          59,
          51,
          54,
          55,
          60.5,
          54.5,
          62,
          54.5,
          54,
          57,
          60,
          59,
          57.5,
          58,
          57,
          60,
          59,
          59.5,
          56,
          53,
          51,
          69,
          63,
          54.5,
          52,
          61.5,
          52.5,
          62,
          64.5,
          57.5,
          61,
          58,
          61.5,
          55,
          55,
          54,
          63,
          47,
          56,
          58.5,
          55,
          58,
          58,
          55,
          57,
          53,
          57,
          55,
          63.5,
          57.5,
          53,
          54,
          52,
          53,
          58.5,
          58,
          51,
          64.5,
          58.5,
          52.5,
          63.5,
          58.5,
          64,
          53,
          48,
          60.5,
          56,
          64.5,
          50.5,
          51.5,
          59,
          53,
          53,
          53.5,
          52,
          63,
          47,
          61,
          55.5,
          53.5,
          61.5,
          55,
          57,
          52,
          52.5,
          65,
          57.5,
          56.5,
          59.5,
          58,
          56.5,
          60,
          55.5,
          62,
          49.5,
          68,
          59.5,
          55.5,
          56,
          56.5,
          60.5,
          55,
          52.5,
          60.5,
          59.5,
          57,
          63.5,
          65,
          61.5,
          54,
          57,
          61.5,
          53,
          59,
          56,
          59.5,
          64,
          57.5,
          60,
          56,
          51,
          50.5,
          54,
          57,
          52,
          59.5,
          53,
          62,
          53,
          57,
          48,
          49.5,
          51,
          56,
          50,
          69,
          64,
          63,
          66.5,
          57,
          64,
          68.5,
          69.5,
          72,
          71,
          62,
          61,
          66,
          68,
          72,
          66,
          63,
          60.5,
          62,
          60,
          64.5,
          67,
          66,
          68.5,
          67,
          67,
          62.5,
          61,
          62,
          66.5,
          68.5,
          61.5,
          64.5,
          67,
          68.5,
          65,
          70,
          67.5,
          65.5,
          64.5,
          67.5,
          58.5,
          70.5,
          63,
          67.5,
          64.5,
          68.5,
          64.5,
          62.5,
          72.5,
          65.5,
          66.5,
          68,
          66,
          68.5,
          65,
          66.5,
          64.5,
          70,
          60,
          62.5,
          65.5,
          66,
          69,
          71,
          60.5,
          58,
          69,
          59.5,
          64,
          74,
          70,
          67,
          64.5,
          68,
          68.5,
          67.5,
          60,
          65,
          64,
          73,
          70.5,
          66,
          52.5,
          65.5,
          60.5,
          59,
          57,
          68.5,
          69,
          71,
          67,
          67,
          70,
          61,
          65.5,
          67.5,
          63.5,
          70,
          71.5,
          74,
          61,
          61,
          63,
          67.5,
          70.5,
          70.5,
          62,
          65.5,
          65,
          70,
          66,
          68,
          59,
          68.5,
          63,
          68,
          72.5,
          64,
          65.5,
          57,
          64.5,
          67,
          71,
          61,
          70.5,
          62,
          65,
          61,
          69.5,
          65.5,
          60.5,
          65,
          67,
          66,
          64,
          71,
          68,
          59.5,
          58,
          69,
          70,
          72,
          70,
          67.5,
          70,
          69,
          71,
          68,
          70.5,
          67,
          73,
          73.5,
          70,
          66,
          72,
          70
         ]
        },
        {
         "hovertemplate": "Name=Male Smoker<br>age=%{x}<br>fev=%{y}<br>height=%{z}<extra></extra>",
         "legendgroup": "Male Smoker",
         "marker": {
          "color": "#ab63fa",
          "symbol": "circle"
         },
         "mode": "markers",
         "name": "Male Smoker",
         "scene": "scene",
         "showlegend": true,
         "type": "scatter3d",
         "x": [
          9,
          11,
          14,
          13,
          13,
          14,
          12,
          12,
          12,
          10,
          14,
          11,
          11,
          13,
          14,
          15,
          16,
          17,
          17,
          15,
          18,
          16,
          18,
          16,
          16,
          15
         ],
         "y": [
          1.953,
          1.694,
          3.957,
          4.789,
          4.756,
          4.309,
          3.343,
          3.751,
          2.304,
          3.498,
          2.276,
          4.637,
          3.339,
          4.045,
          4.763,
          4.506,
          3.688,
          3.082,
          3.406,
          3.799,
          4.086,
          4.07,
          4.404,
          4.872,
          4.27,
          3.727
         ],
         "z": [
          58,
          60,
          72,
          69,
          68,
          69,
          68,
          72,
          66.5,
          68,
          66,
          72,
          68.5,
          69,
          68,
          71,
          68,
          67,
          69,
          66.5,
          67,
          69.5,
          70.5,
          72,
          67,
          68
         ]
        }
       ],
       "layout": {
        "legend": {
         "title": {
          "text": "Name"
         },
         "tracegroupgap": 0
        },
        "margin": {
         "t": 60
        },
        "scene": {
         "domain": {
          "x": [
           0,
           1
          ],
          "y": [
           0,
           1
          ]
         },
         "xaxis": {
          "title": {
           "text": "age"
          }
         },
         "yaxis": {
          "title": {
           "text": "fev"
          }
         },
         "zaxis": {
          "title": {
           "text": "height"
          }
         }
        },
        "template": {
         "data": {
          "bar": [
           {
            "error_x": {
             "color": "#2a3f5f"
            },
            "error_y": {
             "color": "#2a3f5f"
            },
            "marker": {
             "line": {
              "color": "#E5ECF6",
              "width": 0.5
             },
             "pattern": {
              "fillmode": "overlay",
              "size": 10,
              "solidity": 0.2
             }
            },
            "type": "bar"
           }
          ],
          "barpolar": [
           {
            "marker": {
             "line": {
              "color": "#E5ECF6",
              "width": 0.5
             },
             "pattern": {
              "fillmode": "overlay",
              "size": 10,
              "solidity": 0.2
             }
            },
            "type": "barpolar"
           }
          ],
          "carpet": [
           {
            "aaxis": {
             "endlinecolor": "#2a3f5f",
             "gridcolor": "white",
             "linecolor": "white",
             "minorgridcolor": "white",
             "startlinecolor": "#2a3f5f"
            },
            "baxis": {
             "endlinecolor": "#2a3f5f",
             "gridcolor": "white",
             "linecolor": "white",
             "minorgridcolor": "white",
             "startlinecolor": "#2a3f5f"
            },
            "type": "carpet"
           }
          ],
          "choropleth": [
           {
            "colorbar": {
             "outlinewidth": 0,
             "ticks": ""
            },
            "type": "choropleth"
           }
          ],
          "contour": [
           {
            "colorbar": {
             "outlinewidth": 0,
             "ticks": ""
            },
            "colorscale": [
             [
              0,
              "#0d0887"
             ],
             [
              0.1111111111111111,
              "#46039f"
             ],
             [
              0.2222222222222222,
              "#7201a8"
             ],
             [
              0.3333333333333333,
              "#9c179e"
             ],
             [
              0.4444444444444444,
              "#bd3786"
             ],
             [
              0.5555555555555556,
              "#d8576b"
             ],
             [
              0.6666666666666666,
              "#ed7953"
             ],
             [
              0.7777777777777778,
              "#fb9f3a"
             ],
             [
              0.8888888888888888,
              "#fdca26"
             ],
             [
              1,
              "#f0f921"
             ]
            ],
            "type": "contour"
           }
          ],
          "contourcarpet": [
           {
            "colorbar": {
             "outlinewidth": 0,
             "ticks": ""
            },
            "type": "contourcarpet"
           }
          ],
          "heatmap": [
           {
            "colorbar": {
             "outlinewidth": 0,
             "ticks": ""
            },
            "colorscale": [
             [
              0,
              "#0d0887"
             ],
             [
              0.1111111111111111,
              "#46039f"
             ],
             [
              0.2222222222222222,
              "#7201a8"
             ],
             [
              0.3333333333333333,
              "#9c179e"
             ],
             [
              0.4444444444444444,
              "#bd3786"
             ],
             [
              0.5555555555555556,
              "#d8576b"
             ],
             [
              0.6666666666666666,
              "#ed7953"
             ],
             [
              0.7777777777777778,
              "#fb9f3a"
             ],
             [
              0.8888888888888888,
              "#fdca26"
             ],
             [
              1,
              "#f0f921"
             ]
            ],
            "type": "heatmap"
           }
          ],
          "heatmapgl": [
           {
            "colorbar": {
             "outlinewidth": 0,
             "ticks": ""
            },
            "colorscale": [
             [
              0,
              "#0d0887"
             ],
             [
              0.1111111111111111,
              "#46039f"
             ],
             [
              0.2222222222222222,
              "#7201a8"
             ],
             [
              0.3333333333333333,
              "#9c179e"
             ],
             [
              0.4444444444444444,
              "#bd3786"
             ],
             [
              0.5555555555555556,
              "#d8576b"
             ],
             [
              0.6666666666666666,
              "#ed7953"
             ],
             [
              0.7777777777777778,
              "#fb9f3a"
             ],
             [
              0.8888888888888888,
              "#fdca26"
             ],
             [
              1,
              "#f0f921"
             ]
            ],
            "type": "heatmapgl"
           }
          ],
          "histogram": [
           {
            "marker": {
             "pattern": {
              "fillmode": "overlay",
              "size": 10,
              "solidity": 0.2
             }
            },
            "type": "histogram"
           }
          ],
          "histogram2d": [
           {
            "colorbar": {
             "outlinewidth": 0,
             "ticks": ""
            },
            "colorscale": [
             [
              0,
              "#0d0887"
             ],
             [
              0.1111111111111111,
              "#46039f"
             ],
             [
              0.2222222222222222,
              "#7201a8"
             ],
             [
              0.3333333333333333,
              "#9c179e"
             ],
             [
              0.4444444444444444,
              "#bd3786"
             ],
             [
              0.5555555555555556,
              "#d8576b"
             ],
             [
              0.6666666666666666,
              "#ed7953"
             ],
             [
              0.7777777777777778,
              "#fb9f3a"
             ],
             [
              0.8888888888888888,
              "#fdca26"
             ],
             [
              1,
              "#f0f921"
             ]
            ],
            "type": "histogram2d"
           }
          ],
          "histogram2dcontour": [
           {
            "colorbar": {
             "outlinewidth": 0,
             "ticks": ""
            },
            "colorscale": [
             [
              0,
              "#0d0887"
             ],
             [
              0.1111111111111111,
              "#46039f"
             ],
             [
              0.2222222222222222,
              "#7201a8"
             ],
             [
              0.3333333333333333,
              "#9c179e"
             ],
             [
              0.4444444444444444,
              "#bd3786"
             ],
             [
              0.5555555555555556,
              "#d8576b"
             ],
             [
              0.6666666666666666,
              "#ed7953"
             ],
             [
              0.7777777777777778,
              "#fb9f3a"
             ],
             [
              0.8888888888888888,
              "#fdca26"
             ],
             [
              1,
              "#f0f921"
             ]
            ],
            "type": "histogram2dcontour"
           }
          ],
          "mesh3d": [
           {
            "colorbar": {
             "outlinewidth": 0,
             "ticks": ""
            },
            "type": "mesh3d"
           }
          ],
          "parcoords": [
           {
            "line": {
             "colorbar": {
              "outlinewidth": 0,
              "ticks": ""
             }
            },
            "type": "parcoords"
           }
          ],
          "pie": [
           {
            "automargin": true,
            "type": "pie"
           }
          ],
          "scatter": [
           {
            "marker": {
             "colorbar": {
              "outlinewidth": 0,
              "ticks": ""
             }
            },
            "type": "scatter"
           }
          ],
          "scatter3d": [
           {
            "line": {
             "colorbar": {
              "outlinewidth": 0,
              "ticks": ""
             }
            },
            "marker": {
             "colorbar": {
              "outlinewidth": 0,
              "ticks": ""
             }
            },
            "type": "scatter3d"
           }
          ],
          "scattercarpet": [
           {
            "marker": {
             "colorbar": {
              "outlinewidth": 0,
              "ticks": ""
             }
            },
            "type": "scattercarpet"
           }
          ],
          "scattergeo": [
           {
            "marker": {
             "colorbar": {
              "outlinewidth": 0,
              "ticks": ""
             }
            },
            "type": "scattergeo"
           }
          ],
          "scattergl": [
           {
            "marker": {
             "colorbar": {
              "outlinewidth": 0,
              "ticks": ""
             }
            },
            "type": "scattergl"
           }
          ],
          "scattermapbox": [
           {
            "marker": {
             "colorbar": {
              "outlinewidth": 0,
              "ticks": ""
             }
            },
            "type": "scattermapbox"
           }
          ],
          "scatterpolar": [
           {
            "marker": {
             "colorbar": {
              "outlinewidth": 0,
              "ticks": ""
             }
            },
            "type": "scatterpolar"
           }
          ],
          "scatterpolargl": [
           {
            "marker": {
             "colorbar": {
              "outlinewidth": 0,
              "ticks": ""
             }
            },
            "type": "scatterpolargl"
           }
          ],
          "scatterternary": [
           {
            "marker": {
             "colorbar": {
              "outlinewidth": 0,
              "ticks": ""
             }
            },
            "type": "scatterternary"
           }
          ],
          "surface": [
           {
            "colorbar": {
             "outlinewidth": 0,
             "ticks": ""
            },
            "colorscale": [
             [
              0,
              "#0d0887"
             ],
             [
              0.1111111111111111,
              "#46039f"
             ],
             [
              0.2222222222222222,
              "#7201a8"
             ],
             [
              0.3333333333333333,
              "#9c179e"
             ],
             [
              0.4444444444444444,
              "#bd3786"
             ],
             [
              0.5555555555555556,
              "#d8576b"
             ],
             [
              0.6666666666666666,
              "#ed7953"
             ],
             [
              0.7777777777777778,
              "#fb9f3a"
             ],
             [
              0.8888888888888888,
              "#fdca26"
             ],
             [
              1,
              "#f0f921"
             ]
            ],
            "type": "surface"
           }
          ],
          "table": [
           {
            "cells": {
             "fill": {
              "color": "#EBF0F8"
             },
             "line": {
              "color": "white"
             }
            },
            "header": {
             "fill": {
              "color": "#C8D4E3"
             },
             "line": {
              "color": "white"
             }
            },
            "type": "table"
           }
          ]
         },
         "layout": {
          "annotationdefaults": {
           "arrowcolor": "#2a3f5f",
           "arrowhead": 0,
           "arrowwidth": 1
          },
          "autotypenumbers": "strict",
          "coloraxis": {
           "colorbar": {
            "outlinewidth": 0,
            "ticks": ""
           }
          },
          "colorscale": {
           "diverging": [
            [
             0,
             "#8e0152"
            ],
            [
             0.1,
             "#c51b7d"
            ],
            [
             0.2,
             "#de77ae"
            ],
            [
             0.3,
             "#f1b6da"
            ],
            [
             0.4,
             "#fde0ef"
            ],
            [
             0.5,
             "#f7f7f7"
            ],
            [
             0.6,
             "#e6f5d0"
            ],
            [
             0.7,
             "#b8e186"
            ],
            [
             0.8,
             "#7fbc41"
            ],
            [
             0.9,
             "#4d9221"
            ],
            [
             1,
             "#276419"
            ]
           ],
           "sequential": [
            [
             0,
             "#0d0887"
            ],
            [
             0.1111111111111111,
             "#46039f"
            ],
            [
             0.2222222222222222,
             "#7201a8"
            ],
            [
             0.3333333333333333,
             "#9c179e"
            ],
            [
             0.4444444444444444,
             "#bd3786"
            ],
            [
             0.5555555555555556,
             "#d8576b"
            ],
            [
             0.6666666666666666,
             "#ed7953"
            ],
            [
             0.7777777777777778,
             "#fb9f3a"
            ],
            [
             0.8888888888888888,
             "#fdca26"
            ],
            [
             1,
             "#f0f921"
            ]
           ],
           "sequentialminus": [
            [
             0,
             "#0d0887"
            ],
            [
             0.1111111111111111,
             "#46039f"
            ],
            [
             0.2222222222222222,
             "#7201a8"
            ],
            [
             0.3333333333333333,
             "#9c179e"
            ],
            [
             0.4444444444444444,
             "#bd3786"
            ],
            [
             0.5555555555555556,
             "#d8576b"
            ],
            [
             0.6666666666666666,
             "#ed7953"
            ],
            [
             0.7777777777777778,
             "#fb9f3a"
            ],
            [
             0.8888888888888888,
             "#fdca26"
            ],
            [
             1,
             "#f0f921"
            ]
           ]
          },
          "colorway": [
           "#636efa",
           "#EF553B",
           "#00cc96",
           "#ab63fa",
           "#FFA15A",
           "#19d3f3",
           "#FF6692",
           "#B6E880",
           "#FF97FF",
           "#FECB52"
          ],
          "font": {
           "color": "#2a3f5f"
          },
          "geo": {
           "bgcolor": "white",
           "lakecolor": "white",
           "landcolor": "#E5ECF6",
           "showlakes": true,
           "showland": true,
           "subunitcolor": "white"
          },
          "hoverlabel": {
           "align": "left"
          },
          "hovermode": "closest",
          "mapbox": {
           "style": "light"
          },
          "paper_bgcolor": "white",
          "plot_bgcolor": "#E5ECF6",
          "polar": {
           "angularaxis": {
            "gridcolor": "white",
            "linecolor": "white",
            "ticks": ""
           },
           "bgcolor": "#E5ECF6",
           "radialaxis": {
            "gridcolor": "white",
            "linecolor": "white",
            "ticks": ""
           }
          },
          "scene": {
           "xaxis": {
            "backgroundcolor": "#E5ECF6",
            "gridcolor": "white",
            "gridwidth": 2,
            "linecolor": "white",
            "showbackground": true,
            "ticks": "",
            "zerolinecolor": "white"
           },
           "yaxis": {
            "backgroundcolor": "#E5ECF6",
            "gridcolor": "white",
            "gridwidth": 2,
            "linecolor": "white",
            "showbackground": true,
            "ticks": "",
            "zerolinecolor": "white"
           },
           "zaxis": {
            "backgroundcolor": "#E5ECF6",
            "gridcolor": "white",
            "gridwidth": 2,
            "linecolor": "white",
            "showbackground": true,
            "ticks": "",
            "zerolinecolor": "white"
           }
          },
          "shapedefaults": {
           "line": {
            "color": "#2a3f5f"
           }
          },
          "ternary": {
           "aaxis": {
            "gridcolor": "white",
            "linecolor": "white",
            "ticks": ""
           },
           "baxis": {
            "gridcolor": "white",
            "linecolor": "white",
            "ticks": ""
           },
           "bgcolor": "#E5ECF6",
           "caxis": {
            "gridcolor": "white",
            "linecolor": "white",
            "ticks": ""
           }
          },
          "title": {
           "x": 0.05
          },
          "xaxis": {
           "automargin": true,
           "gridcolor": "white",
           "linecolor": "white",
           "ticks": "",
           "title": {
            "standoff": 15
           },
           "zerolinecolor": "white",
           "zerolinewidth": 2
          },
          "yaxis": {
           "automargin": true,
           "gridcolor": "white",
           "linecolor": "white",
           "ticks": "",
           "title": {
            "standoff": 15
           },
           "zerolinecolor": "white",
           "zerolinewidth": 2
          }
         }
        }
       }
      }
     },
     "metadata": {},
     "output_type": "display_data"
    }
   ],
   "source": [
    "\n",
    "fig = px.scatter_3d(df, x='age', y='fev', z='height',\n",
    "              color='Name')\n",
    "fig.show()"
   ]
  },
  {
   "cell_type": "code",
   "execution_count": 200,
   "metadata": {},
   "outputs": [
    {
     "data": {
      "image/png": "[encoded data removed]",
      "text/plain": [
       "<Figure size 432x288 with 2 Axes>"
      ]
     },
     "metadata": {
      "needs_background": "light"
     },
     "output_type": "display_data"
    }
   ],
   "source": [
    "f, (ax_box, ax_hist) = plt.subplots(2, sharex=True, gridspec_kw= {\"height_ratios\": (0.2, 1)})\n",
    "mean=df_F_nonsmoker['fev'].mean()\n",
    "median=df_F_nonsmoker['fev'].median()\n",
    "mode=df_F_nonsmoker['fev'].mode().values[0]\n",
    "\n",
    "sns.boxplot(data=df_F_nonsmoker, x=\"fev\", ax=ax_box)\n",
    "ax_box.axvline(mean, color='r', linestyle='--')\n",
    "ax_box.axvline(median, color='g', linestyle='-')\n",
    "\n",
    "sns.histplot(data=df_F_nonsmoker, x=\"fev\", ax=ax_hist, kde=True)\n",
    "ax_hist.axvline(mean, color='r', linestyle='--', label=\"Mean\")\n",
    "ax_hist.axvline(median, color='g', linestyle='-', label=\"Median\")\n",
    "\n",
    "ax_hist.legend()\n",
    "\n",
    "ax_box.set(xlabel='')\n",
    "plt.show()"
   ]
  },
  {
   "cell_type": "code",
   "execution_count": 201,
   "metadata": {},
   "outputs": [
    {
     "data": {
      "image/png": "[encoded data removed]",
      "text/plain": [
       "<Figure size 432x288 with 2 Axes>"
      ]
     },
     "metadata": {
      "needs_background": "light"
     },
     "output_type": "display_data"
    }
   ],
   "source": [
    "f, (ax_box, ax_hist) = plt.subplots(2, sharex=True, gridspec_kw= {\"height_ratios\": (0.2, 1)})\n",
    "mean=df_F_smoker['fev'].mean()\n",
    "median=df_F_smoker['fev'].median()\n",
    "mode=df_F_smoker['fev'].mode().values[0]\n",
    "\n",
    "sns.boxplot(data=df_F_smoker, x=\"fev\", ax=ax_box)\n",
    "ax_box.axvline(mean, color='r', linestyle='--')\n",
    "ax_box.axvline(median, color='g', linestyle='-')\n",
    "\n",
    "sns.histplot(data=df_F_smoker, x=\"fev\", ax=ax_hist, kde=True)\n",
    "ax_hist.axvline(mean, color='r', linestyle='--', label=\"Mean\")\n",
    "ax_hist.axvline(median, color='g', linestyle='-', label=\"Median\")\n",
    "\n",
    "ax_hist.legend()\n",
    "\n",
    "ax_box.set(xlabel='')\n",
    "plt.show()"
   ]
  },
  {
   "cell_type": "code",
   "execution_count": 202,
   "metadata": {},
   "outputs": [
    {
     "data": {
      "image/png": "[encoded data removed]",
      "text/plain": [
       "<Figure size 432x288 with 2 Axes>"
      ]
     },
     "metadata": {
      "needs_background": "light"
     },
     "output_type": "display_data"
    }
   ],
   "source": [
    "f, (ax_box, ax_hist) = plt.subplots(2, sharex=True, gridspec_kw= {\"height_ratios\": (0.2, 1)})\n",
    "mean=df_M_nonsmoker['fev'].mean()\n",
    "median=df_M_nonsmoker['fev'].median()\n",
    "mode=df_M_nonsmoker['fev'].mode().values[0]\n",
    "\n",
    "sns.boxplot(data=df_M_nonsmoker, x=\"fev\", ax=ax_box)\n",
    "ax_box.axvline(mean, color='r', linestyle='--')\n",
    "ax_box.axvline(median, color='g', linestyle='-')\n",
    "\n",
    "sns.histplot(data=df_M_nonsmoker, x=\"fev\", ax=ax_hist, kde=True)\n",
    "ax_hist.axvline(mean, color='r', linestyle='--', label=\"Mean\")\n",
    "ax_hist.axvline(median, color='g', linestyle='-', label=\"Median\")\n",
    "\n",
    "ax_hist.legend()\n",
    "\n",
    "ax_box.set(xlabel='')\n",
    "plt.show()"
   ]
  },
  {
   "cell_type": "code",
   "execution_count": 203,
   "metadata": {},
   "outputs": [
    {
     "data": {
      "image/png": "[encoded data removed]",
      "text/plain": [
       "<Figure size 432x288 with 2 Axes>"
      ]
     },
     "metadata": {
      "needs_background": "light"
     },
     "output_type": "display_data"
    }
   ],
   "source": [
    "f, (ax_box, ax_hist) = plt.subplots(2, sharex=True, gridspec_kw= {\"height_ratios\": (0.2, 1)})\n",
    "mean=df_M_smoker['fev'].mean()\n",
    "median=df_M_smoker['fev'].median()\n",
    "mode=df_M_smoker['fev'].mode().values[0]\n",
    "\n",
    "sns.boxplot(data=df_M_smoker, x=\"fev\", ax=ax_box)\n",
    "ax_box.axvline(mean, color='r', linestyle='--')\n",
    "ax_box.axvline(median, color='g', linestyle='-')\n",
    "\n",
    "sns.histplot(data=df_M_smoker, x=\"fev\", ax=ax_hist, kde=True)\n",
    "ax_hist.axvline(mean, color='r', linestyle='--', label=\"Mean\")\n",
    "ax_hist.axvline(median, color='g', linestyle='-', label=\"Median\")\n",
    "\n",
    "ax_hist.legend()\n",
    "\n",
    "ax_box.set(xlabel='')\n",
    "plt.show()"
   ]
  },
  {
   "cell_type": "code",
   "execution_count": null,
   "metadata": {},
   "outputs": [],
   "source": [
    "#make a sns grid cut be age categories ()"
   ]
  }
 ],
 "metadata": {
  "interpreter": {
   "hash": "b3ba2566441a7c06988d0923437866b63cedc61552a5af99d1f4fb67d367b25f"
  },
  "kernelspec": {
   "display_name": "Python 3.8.8 ('base')",
   "language": "python",
   "name": "python3"
  },
  "language_info": {
   "codemirror_mode": {
    "name": "ipython",
    "version": 3
   },
   "file_extension": ".py",
   "mimetype": "text/x-python",
   "name": "python",
   "nbconvert_exporter": "python",
   "pygments_lexer": "ipython3",
   "version": "3.8.8"
  }
 },
 "nbformat": 4,
 "nbformat_minor": 4
}
